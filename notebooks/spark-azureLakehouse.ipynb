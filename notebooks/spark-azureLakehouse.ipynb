{
 "cells": [
  {
   "cell_type": "code",
   "execution_count": null,
   "metadata": {},
   "outputs": [],
   "source": [
    "!pip install delta-spark\n",
    "!pip install azure-storage-blob"
   ]
  },
  {
   "cell_type": "code",
   "execution_count": null,
   "metadata": {},
   "outputs": [],
   "source": [
    "from pyspark.sql import SparkSession\n",
    "access_key = \"<access_key\"\n",
    "\n",
    "# Initialize Spark session\n",
    "spark = SparkSession.builder \\\n",
    "    .appName(\"DeltaWrite\") \\\n",
    "    .config('spark.jars.packages', 'io.delta:delta-core_2.12:1.2.1,org.apache.hadoop:hadoop-azure:3.3.4,com.microsoft.azure:azure-storage:7.0.1') \\\n",
    "    .config(\"spark.hadoop.fs.azure.account.key.jbgithub22.dfs.core.windows.net\", access_key) \\\n",
    "    .config(\"spark.databricks.delta.formatCheck.enabled\", \"false\") \\\n",
    "    .getOrCreate()"
   ]
  },
  {
   "cell_type": "code",
   "execution_count": null,
   "metadata": {},
   "outputs": [],
   "source": [
    "# https://discourse.jupyter.org/t/pyspark-read-file-from-azure-blob-error-org-apache-hadoop-fs-azure-nativeazurefilesystem-not-found/17145/3\n",
    "\n",
    "# spark = (\n",
    "#     SparkSession.builder.appName(\"hive-metastore-example\")\n",
    "#     .config(\"hive.metastore.uris\", \"thrift://localhost:9083\")\n",
    "#     .config(\n",
    "#         \"spark.jars.packages\",\n",
    "#         \"io.delta:delta-spark_2.12:3.1.0,org.apache.hadoop:hadoop-azure:3.3.4,org.apache.hadoop:hadoop-azure-datalake:3.3.4,com.microsoft.azure:azure-storage:7.0.1\",\n",
    "#     )\n",
    "#     .config(\"spark.sql.extensions\", \"io.delta.sql.DeltaSparkSessionExtension\")\n",
    "#     .config(\n",
    "#         \"spark.sql.catalog.spark_catalog\",\n",
    "#         \"org.apache.spark.sql.delta.catalog.DeltaCatalog\",\n",
    "#     )\n",
    "#     .config(\"fs.azure\", \"org.apache.hadoop.fs.azure.NativeAzureFileSystem\")\n",
    "#     .config(\"fs.azure.account.key.<storage-account>.blob.core.windows.net\", \"<access_key>\")\n",
    "#     .config(\"fs.azure.createRemoteFileSystemDuringInitialization\", \"false\")\n",
    "#     .config(\"spark.sql.warehouse.dir\", \"/tmp/warehouse/\")\n",
    "#     .config(\"spark.delta.logStore.class\", \"org.apache.spark.sql.delta.storage.AzureLogStore\")\n",
    "#     .config(\"spark.sql.catalogImplementation\", \"hive\")\n",
    "#     .enableHiveSupport()\n",
    "#     .getOrCreate()"
   ]
  },
  {
   "cell_type": "code",
   "execution_count": null,
   "metadata": {},
   "outputs": [],
   "source": [
    "# Sample DataFrame\n",
    "data = [(\"James\", \"Smith\"), (\"Anna\", \"Rose\")]\n",
    "columns = [\"first_name\", \"last_name\"]\n",
    "df = spark.createDataFrame(data, columns)\n",
    "\n",
    "# Define the path to Azure Data Lake\n",
    "delta_path = \"abfss://bronze@jbgithub22.dfs.core.windows.net/test\"\n",
    "\n",
    "# Write the DataFrame as Delta format\n",
    "df.write.format(\"delta\").mode(\"overwrite\").save(delta_path)"
   ]
  },
  {
   "cell_type": "code",
   "execution_count": null,
   "metadata": {},
   "outputs": [],
   "source": [
    "delta_df = spark.read.format(\"delta\").load(delta_path)\n",
    "delta_df.show()"
   ]
  },
  {
   "cell_type": "code",
   "execution_count": null,
   "metadata": {},
   "outputs": [],
   "source": [
    "exit()"
   ]
  }
 ],
 "metadata": {
  "language_info": {
   "name": "python"
  }
 },
 "nbformat": 4,
 "nbformat_minor": 2
}
